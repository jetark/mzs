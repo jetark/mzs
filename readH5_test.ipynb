{
 "cells": [
  {
   "cell_type": "code",
   "execution_count": 2,
   "id": "68141f90-8963-44e6-ade5-0738bfdf1fd2",
   "metadata": {},
   "outputs": [],
   "source": [
    "import deepRD.tools.trajectoryTools as trajectoryTools"
   ]
  },
  {
   "cell_type": "code",
   "execution_count": 3,
   "id": "4c30c3a4-e7b1-4d37-b1c6-a150de25d844",
   "metadata": {},
   "outputs": [],
   "source": [
    "data=trajectoryTools.loadTrajectory(\"simMoriZwanzig_\", \"0001\")"
   ]
  },
  {
   "cell_type": "code",
   "execution_count": 4,
   "id": "c2ac2a52-b567-45a4-ae28-ee039627e259",
   "metadata": {},
   "outputs": [
    {
     "data": {
      "text/plain": [
       "array([[ 2.50000000e+02, -1.77281248e+00, -5.01046027e-01, ...,\n",
       "        -5.11398637e-03, -1.04670466e-02, -1.13400830e-02],\n",
       "       [ 2.50050000e+02, -1.76696523e+00, -5.07018658e-01, ...,\n",
       "        -1.16606540e-02, -4.84848210e-03,  7.60440852e-03],\n",
       "       [ 2.50100000e+02, -1.76141454e+00, -5.12894296e-01, ...,\n",
       "        -2.39164727e-03,  6.78425105e-03,  2.05010197e-02],\n",
       "       ...,\n",
       "       [ 7.49850000e+02, -9.84546308e-01,  1.41103230e+00, ...,\n",
       "         2.04276080e-03, -4.60036893e-03, -2.63178946e-03],\n",
       "       [ 7.49900000e+02, -9.80026560e-01,  1.40776713e+00, ...,\n",
       "         4.15147711e-04, -2.47955862e-03, -5.87241816e-03],\n",
       "       [ 7.49950000e+02, -9.75573915e-01,  1.40420888e+00, ...,\n",
       "        -1.20019967e-03, -4.06648742e-03, -4.59798079e-03]])"
      ]
     },
     "execution_count": 4,
     "metadata": {},
     "output_type": "execute_result"
    }
   ],
   "source": [
    "data"
   ]
  },
  {
   "cell_type": "code",
   "execution_count": 5,
   "id": "d0b33d70-3015-4fe2-b7d9-7ec47dafd77b",
   "metadata": {},
   "outputs": [
    {
     "data": {
      "text/plain": [
       "(10000, 11)"
      ]
     },
     "execution_count": 5,
     "metadata": {},
     "output_type": "execute_result"
    }
   ],
   "source": [
    "data.shape"
   ]
  },
  {
   "cell_type": "code",
   "execution_count": null,
   "id": "c029d6e5-0ce5-4415-b3db-c0a3930538c9",
   "metadata": {},
   "outputs": [],
   "source": [
    "# time, position (3d), velocity (3d), states (1d), raux(3d) -- 11 total"
   ]
  }
 ],
 "metadata": {
  "kernelspec": {
   "display_name": "cgr",
   "language": "python",
   "name": "cgr"
  },
  "language_info": {
   "codemirror_mode": {
    "name": "ipython",
    "version": 3
   },
   "file_extension": ".py",
   "mimetype": "text/x-python",
   "name": "python",
   "nbconvert_exporter": "python",
   "pygments_lexer": "ipython3",
   "version": "3.12.2"
  }
 },
 "nbformat": 4,
 "nbformat_minor": 5
}
